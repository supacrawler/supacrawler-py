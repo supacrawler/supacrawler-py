{
  "cells": [
    {
      "cell_type": "markdown",
      "metadata": {},
      "source": [
        "First let's start with a basic scrape:"
      ]
    },
    {
      "cell_type": "code",
      "execution_count": 3,
      "metadata": {},
      "outputs": [
        {
          "ename": "TypeError",
          "evalue": "SupacrawlerClient.__init__() missing 1 required positional argument: 'api_key'",
          "output_type": "error",
          "traceback": [
            "\u001b[31m---------------------------------------------------------------------------\u001b[39m",
            "\u001b[31mTypeError\u001b[39m                                 Traceback (most recent call last)",
            "\u001b[36mCell\u001b[39m\u001b[36m \u001b[39m\u001b[32mIn[3]\u001b[39m\u001b[32m, line 11\u001b[39m\n\u001b[32m      7\u001b[39m load_dotenv()\n\u001b[32m      9\u001b[39m SUPACRAWLER_API_KEY=os.environ.get(\u001b[33m\"\u001b[39m\u001b[33mSUPACRAWLER_API_KEY\u001b[39m\u001b[33m\"\u001b[39m)\n\u001b[32m---> \u001b[39m\u001b[32m11\u001b[39m client = \u001b[43mSupacrawlerClient\u001b[49m\u001b[43m(\u001b[49m\u001b[43mbase_url\u001b[49m\u001b[43m=\u001b[49m\u001b[33;43m\"\u001b[39;49m\u001b[33;43mhttp://localhost:8081\u001b[39;49m\u001b[33;43m\"\u001b[39;49m\u001b[43m)\u001b[49m\n\u001b[32m     13\u001b[39m \u001b[38;5;66;03m# Basic markdown scrape\u001b[39;00m\n\u001b[32m     14\u001b[39m res_md = client.scrape(\u001b[33m\"\u001b[39m\u001b[33mhttps://supabase.com\u001b[39m\u001b[33m\"\u001b[39m, \u001b[38;5;28mformat\u001b[39m=\u001b[33m\"\u001b[39m\u001b[33mmarkdown\u001b[39m\u001b[33m\"\u001b[39m)\n",
            "\u001b[31mTypeError\u001b[39m: SupacrawlerClient.__init__() missing 1 required positional argument: 'api_key'"
          ]
        }
      ],
      "source": [
        "# Supacrawler Python SDK - Scrape Examples\n",
        "import os\n",
        "from dotenv import load_dotenv\n",
        "from supacrawler import SupacrawlerClient\n",
        "from supacrawler.scraper_client.models import GetV1ScrapeFormat\n",
        "\n",
        "load_dotenv()\n",
        "\n",
        "SUPACRAWLER_API_KEY=os.environ.get(\"SUPACRAWLER_API_KEY\")\n",
        "\n",
        "client = SupacrawlerClient(api_key=\"\", base_url=l\")\n",
        "\n",
        "# Basic markdown scrape\n",
        "res_md = client.scrape(\"https://supabase.com\", format=\"markdown\")\n",
        "print(res_md)\n",
        "print(\"Scrape content:\\n\", res_md.markdown)\n",
        "print(\"Metadata:\\n\", res_md.metadata.to_json())"
      ]
    },
    {
      "cell_type": "markdown",
      "metadata": {},
      "source": [
        "A good example of a website that won't work unless you set `render_js=True` is `https://ai.google.dev/gemini-api/docs`:"
      ]
    },
    {
      "cell_type": "code",
      "execution_count": null,
      "metadata": {},
      "outputs": [
        {
          "data": {
            "text/plain": [
              "Error(success=False, error='failed to scrape URL after 3 attempts: fetch: Get \"https://accounts.google.com/o/oauth2/v2/auth?client_id=157101835696-ooapojlodmuabs2do2vuhhnf90bccmoi.apps.googleusercontent.com&redirect_uri=https%3A%2F%2Fai.google.dev%2Foauth2callback&scope=https%3A%2F%2Fwww.googleapis.com%2Fauth%2Fuserinfo.email+https%3A%2F%2Fwww.googleapis.com%2Fauth%2Fdeveloperprofiles+https%3A%2F%2Fwww.googleapis.com%2Fauth%2Fdeveloperprofiles.award+https%3A%2F%2Fwww.googleapis.com%2Fauth%2Fgoogledevelopers+openid+https%3A%2F%2Fwww.googleapis.com%2Fauth%2Fuserinfo.profile&access_type=online&response_type=code&state=%7B%22csrf_token%22%3A+%2267f09905c0960ba629e12739581f7c4541b618ab0be8acf0820419ce729b1e73%22%2C+%22return_url%22%3A+%22https%3A%2F%2Fai.google.dev%2Fgemini-api%2Fdocs%22%7D&prompt=none&auto_signin=True\": stopped after 10 redirects', additional_properties={})"
            ]
          },
          "execution_count": 25,
          "metadata": {},
          "output_type": "execute_result"
        }
      ],
      "source": [
        "# This will not work for google with the following error:\n",
        "# This happens because google redirects you to authenticate with google account\n",
        "res_md = client.scrape(\"https://ai.google.dev/gemini-api/docs\", format=\"markdown\")"
      ]
    },
    {
      "cell_type": "code",
      "execution_count": 9,
      "metadata": {},
      "outputs": [
        {
          "name": "stdout",
          "output_type": "stream",
          "text": [
            "This will work:\n",
            " markdown='# Gemini Developer API\\n[Get a Gemini API Key](https://aistudio.google.com/apikey)\\nGet a Gemini API key and make your first API request in minutes.\\n\\n### Python\\n```\\nfrom google import genai\\nclient = genai.Client()\\nresponse = client.models.generate_content(\\nmodel=\"gemini-2.5-flash\",\\ncontents=\"Explain how AI works in a few words\",\\n)\\nprint(response.text)\\n```\\n\\n### JavaScript\\n```\\nimport { GoogleGenAI } from \"@google/genai\";\\nconst ai = new GoogleGenAI({});\\nasync function main() {\\nconst response = await ai.models.generateContent({\\nmodel: \"gemini-2.5-flash\",\\ncontents: \"Explain how AI works in a few words\",\\n});\\nconsole.log(response.text);\\n}\\nawait main();\\n```\\n\\n### Go\\n```\\npackage main\\nimport (\\n\"context\"\\n\"fmt\"\\n\"log\"\\n\"google.golang.org/genai\"\\n)\\nfunc main() {\\nctx := context.Background()\\nclient, err := genai.NewClient(ctx, nil)\\nif err != nil {\\nlog.Fatal(err)\\n}\\nresult, err := client.Models.GenerateContent(\\nctx,\\n\"gemini-2.5-flash\",\\ngenai.Text(\"Explain how AI works in a few words\"),\\nnil,\\n)\\nif err != nil {\\nlog.Fatal(err)\\n}\\nfmt.Println(result.Text())\\n}\\n```\\n\\n### Java\\n```\\npackage com.example;\\nimport com.google.genai.Client;\\nimport com.google.genai.types.GenerateContentResponse;\\npublic class GenerateTextFromTextInput {\\npublic static void main(String[] args) {\\nClient client = new Client();\\nGenerateContentResponse response =\\nclient.models.generateContent(\\n\"gemini-2.5-flash\",\\n\"Explain how AI works in a few words\",\\nnull);\\nSystem.out.println(response.text());\\n}\\n}\\n```\\n\\n### REST\\n```\\ncurl \"https://generativelanguage.googleapis.com/v1beta/models/gemini-2.5-flash:generateContent\" \\n-H \"x-goog-api-key: $GEMINI_API_KEY\" \\n-H \\'Content-Type: application/json\\' \\n-X POST \\n-d \\'{\\n\"contents\": [\\n{\\n\"parts\": [\\n{\\n\"text\": \"Explain how AI works in a few words\"\\n}\\n]\\n}\\n]\\n}\\'\\n```\\n[Use Gemini in Google AI Studio](https://aistudio.google.com)\\n2.5 Pro\\nspark\\nOur most powerful thinking model with features for complex reasoning and much more\\n[Learn more about 2.5 Pro](/gemini-api/docs/models#gemini-2.5-pro)\\n2.5 Flash\\nspark\\nOur newest multimodal model, with next generation features and improved\\ncapabilities\\n[Learn more about 2.5 Flash](/gemini-api/docs/models/gemini#gemini-2.5-flash)\\n2.5 Flash-Lite\\nspark\\nOur fastest and most cost-efficient multimodal model with great performance\\nfor high-frequency tasks\\n[Learn more about 2.5 Flash-Lite](/gemini-api/docs/models/gemini#gemini-2.5-flash-lite)\\nVeo 3\\nvideo\\\\_library\\nOur state of the art video generation model\\n[Learn more about Veo 3](/gemini-api/docs/video)\\nImagen 4\\nimagesmode\\nOur highest quality image generation model that creates stunning visuals\\n[Learn more about Imagen 4](/gemini-api/docs/imagen)\\nGemini Embeddings\\ndata\\\\_array\\nOur first Gemini embedding model, designed for production RAG workflows\\n[Learn more about Gemini Embeddings](/gemini-api/docs/embeddings)\\nGenerate and edit highly contextual images natively with Gemini 2.0 Flash.\\nInput millions of tokens to Gemini models and derive understanding from unstructured images, videos, and documents.\\nConstrain Gemini to respond with JSON, a structured data format suitable for automated processing.\\n[Get started](/gemini-api/docs/quickstart)\\nLast updated 2025-08-18 UTC.\\n\\\\[\\\\[\\\\[\"Easy to understand\",\"easyToUnderstand\",\"thumb-up\"\\\\],\\\\[\"Solved my problem\",\"solvedMyProblem\",\"thumb-up\"\\\\],\\\\[\"Other\",\"otherUp\",\"thumb-up\"\\\\]\\\\],\\\\[\\\\[\"Missing the information I need\",\"missingTheInformationINeed\",\"thumb-down\"\\\\],\\\\[\"Too complicated / too many steps\",\"tooComplicatedTooManySteps\",\"thumb-down\"\\\\],\\\\[\"Out of date\",\"outOfDate\",\"thumb-down\"\\\\],\\\\[\"Samples / code issue\",\"samplesCodeIssue\",\"thumb-down\"\\\\],\\\\[\"Other\",\"otherDown\",\"thumb-down\"\\\\]\\\\],\\\\[\"Last updated 2025-08-18 UTC.\"\\\\],\\\\[\\\\],\\\\[\\\\]\\\\]\\n\\n' html=None metadata=PageMetadata(title='Gemini API &nbsp;|&nbsp; Google AI for Developers', status_code=200, description='Gemini Developer API Docs and API Reference', language=None, robots=None)\n",
            "Content:\n",
            " # Gemini Developer API\n",
            "[Get a Gemini API Key](https://aistudio.google.com/apikey)\n",
            "Get a Gemini API key and make your first API request in minutes.\n",
            "\n",
            "### Python\n",
            "```\n",
            "from google import genai\n",
            "client = genai.Client()\n",
            "response = client.models.generate_content(\n",
            "model=\"gemini-2.5-flash\",\n",
            "contents=\"Explain how AI works in a few words\",\n",
            ")\n",
            "print(response.text)\n",
            "```\n",
            "\n",
            "### JavaScript\n",
            "```\n",
            "import { GoogleGenAI } from \"@google/genai\";\n",
            "const ai = new GoogleGenAI({});\n",
            "async function main() {\n",
            "const response = await ai.models.generateContent({\n",
            "model: \"gemini-2.5-flash\",\n",
            "contents: \"Explain how AI works in a few words\",\n",
            "});\n",
            "console.log(response.text);\n",
            "}\n",
            "await main();\n",
            "```\n",
            "\n",
            "### Go\n",
            "```\n",
            "package main\n",
            "import (\n",
            "\"context\"\n",
            "\"fmt\"\n",
            "\"log\"\n",
            "\"google.golang.org/genai\"\n",
            ")\n",
            "func main() {\n",
            "ctx := context.Background()\n",
            "client, err := genai.NewClient(ctx, nil)\n",
            "if err != nil {\n",
            "log.Fatal(err)\n",
            "}\n",
            "result, err := client.Models.GenerateContent(\n",
            "ctx,\n",
            "\"gemini-2.5-flash\",\n",
            "genai.Text(\"Explain how AI works in a few words\"),\n",
            "nil,\n",
            ")\n",
            "if err != nil {\n",
            "log.Fatal(err)\n",
            "}\n",
            "fmt.Println(result.Text())\n",
            "}\n",
            "```\n",
            "\n",
            "### Java\n",
            "```\n",
            "package com.example;\n",
            "import com.google.genai.Client;\n",
            "import com.google.genai.types.GenerateContentResponse;\n",
            "public class GenerateTextFromTextInput {\n",
            "public static void main(String[] args) {\n",
            "Client client = new Client();\n",
            "GenerateContentResponse response =\n",
            "client.models.generateContent(\n",
            "\"gemini-2.5-flash\",\n",
            "\"Explain how AI works in a few words\",\n",
            "null);\n",
            "System.out.println(response.text());\n",
            "}\n",
            "}\n",
            "```\n",
            "\n",
            "### REST\n",
            "```\n",
            "curl \"https://generativelanguage.googleapis.com/v1beta/models/gemini-2.5-flash:generateContent\" \n",
            "-H \"x-goog-api-key: $GEMINI_API_KEY\" \n",
            "-H 'Content-Type: application/json' \n",
            "-X POST \n",
            "-d '{\n",
            "\"contents\": [\n",
            "{\n",
            "\"parts\": [\n",
            "{\n",
            "\"text\": \"Explain how AI works in a few words\"\n",
            "}\n",
            "]\n",
            "}\n",
            "]\n",
            "}'\n",
            "```\n",
            "[Use Gemini in Google AI Studio](https://aistudio.google.com)\n",
            "2.5 Pro\n",
            "spark\n",
            "Our most powerful thinking model with features for complex reasoning and much more\n",
            "[Learn more about 2.5 Pro](/gemini-api/docs/models#gemini-2.5-pro)\n",
            "2.5 Flash\n",
            "spark\n",
            "Our newest multimodal model, with next generation features and improved\n",
            "capabilities\n",
            "[Learn more about 2.5 Flash](/gemini-api/docs/models/gemini#gemini-2.5-flash)\n",
            "2.5 Flash-Lite\n",
            "spark\n",
            "Our fastest and most cost-efficient multimodal model with great performance\n",
            "for high-frequency tasks\n",
            "[Learn more about 2.5 Flash-Lite](/gemini-api/docs/models/gemini#gemini-2.5-flash-lite)\n",
            "Veo 3\n",
            "video\\_library\n",
            "Our state of the art video generation model\n",
            "[Learn more about Veo 3](/gemini-api/docs/video)\n",
            "Imagen 4\n",
            "imagesmode\n",
            "Our highest quality image generation model that creates stunning visuals\n",
            "[Learn more about Imagen 4](/gemini-api/docs/imagen)\n",
            "Gemini Embeddings\n",
            "data\\_array\n",
            "Our first Gemini embedding model, designed for production RAG workflows\n",
            "[Learn more about Gemini Embeddings](/gemini-api/docs/embeddings)\n",
            "Generate and edit highly contextual images natively with Gemini 2.0 Flash.\n",
            "Input millions of tokens to Gemini models and derive understanding from unstructured images, videos, and documents.\n",
            "Constrain Gemini to respond with JSON, a structured data format suitable for automated processing.\n",
            "[Get started](/gemini-api/docs/quickstart)\n",
            "Last updated 2025-08-18 UTC.\n",
            "\\[\\[\\[\"Easy to understand\",\"easyToUnderstand\",\"thumb-up\"\\],\\[\"Solved my problem\",\"solvedMyProblem\",\"thumb-up\"\\],\\[\"Other\",\"otherUp\",\"thumb-up\"\\]\\],\\[\\[\"Missing the information I need\",\"missingTheInformationINeed\",\"thumb-down\"\\],\\[\"Too complicated / too many steps\",\"tooComplicatedTooManySteps\",\"thumb-down\"\\],\\[\"Out of date\",\"outOfDate\",\"thumb-down\"\\],\\[\"Samples / code issue\",\"samplesCodeIssue\",\"thumb-down\"\\],\\[\"Other\",\"otherDown\",\"thumb-down\"\\]\\],\\[\"Last updated 2025-08-18 UTC.\"\\],\\[\\],\\[\\]\\]\n",
            "\n",
            "\n",
            "Metadata:\n",
            " title='Gemini API &nbsp;|&nbsp; Google AI for Developers' status_code=200 description='Gemini Developer API Docs and API Reference' language=None robots=None\n"
          ]
        }
      ],
      "source": [
        "# Rendering JS should work!\n",
        "res_md_rendered = client.scrape(\"https://ai.google.dev/gemini-api/docs\", format=\"markdown\", render_js=True)\n",
        "print(\"This will work:\\n\", res_md_rendered)\n",
        "print(\"Content:\\n\", res_md_rendered.markdown)\n",
        "print(\"Metadata:\\n\", res_md_rendered.metadata)"
      ]
    },
    {
      "cell_type": "code",
      "execution_count": 10,
      "metadata": {},
      "outputs": [
        {
          "data": {
            "text/plain": [
              "{'title': 'Gemini API &nbsp;|&nbsp; Google AI for Developers',\n",
              " 'status_code': 200,\n",
              " 'description': 'Gemini Developer API Docs and API Reference',\n",
              " 'language': None,\n",
              " 'robots': None}"
            ]
          },
          "execution_count": 10,
          "metadata": {},
          "output_type": "execute_result"
        }
      ],
      "source": [
        "res_md_rendered.metadata.to_json()"
      ]
    },
    {
      "cell_type": "markdown",
      "metadata": {},
      "source": [
        "You can also extract all the existing links within a starting url:"
      ]
    },
    {
      "cell_type": "code",
      "execution_count": 5,
      "metadata": {},
      "outputs": [
        {
          "name": "stdout",
          "output_type": "stream",
          "text": [
            "markdown=None html=None links=['https://supacrawler.com/pricing', 'https://supacrawler.com/about', 'https://supacrawler.com/contact', 'https://supacrawler.com/terms-of-service', 'https://supacrawler.com/work', 'https://supacrawler.com', 'https://supacrawler.com/dashboard/scrape', 'https://supacrawler.com/signin', 'https://supacrawler.com/privacy-policy', 'https://supacrawler.com/blog/your-first-web-scrape', 'https://supacrawler.com/blog/how-to-take-full-page-screenshots', 'https://supacrawler.com/blog/how-to-crawl-blogs-and-docs', 'https://supacrawler.com/forgot-password', 'https://supacrawler.com/signup', 'https://supacrawler.com/blog', 'https://supacrawler.com/dashboard'] metadata=None\n"
          ]
        }
      ],
      "source": [
        "# Links mapping with depth and max_links\n",
        "res_links = client.scrape(\"https://supacrawler.com\", format=\"links\", depth=2, max_links=10)\n",
        "print(res_links)"
      ]
    }
  ],
  "metadata": {
    "kernelspec": {
      "display_name": ".venv",
      "language": "python",
      "name": "python3"
    },
    "language_info": {
      "codemirror_mode": {
        "name": "ipython",
        "version": 3
      },
      "file_extension": ".py",
      "mimetype": "text/x-python",
      "name": "python",
      "nbconvert_exporter": "python",
      "pygments_lexer": "ipython3",
      "version": "3.11.13"
    }
  },
  "nbformat": 4,
  "nbformat_minor": 2
}
