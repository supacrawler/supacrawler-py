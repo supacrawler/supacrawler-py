{
  "cells": [
    {
      "cell_type": "code",
      "execution_count": 1,
      "metadata": {},
      "outputs": [
        {
          "name": "stdout",
          "output_type": "stream",
          "text": [
            "success=True watch_id='507b4d9f-4d72-4940-b4b2-66378b5980f4' message='Watch job created successfully'\n"
          ]
        }
      ],
      "source": [
        "# Supacrawler Python SDK - Watch Examples\n",
        "\n",
        "from supacrawler import SupacrawlerClient, WatchCreateRequest\n",
        "import os\n",
        "from dotenv import load_dotenv\n",
        "\n",
        "load_dotenv()\n",
        "\n",
        "SUPACRAWLER_API_KEY=os.environ.get(\"SUPACRAWLER_API_KEY\")\n",
        "\n",
        "client = SupacrawlerClient(api_key=SUPACRAWLER_API_KEY)\n",
        "\n",
        "# Create watch\n",
        "watch = client.watch_create(WatchCreateRequest(\n",
        "    url=\"https://supacrawler.com/blog\",\n",
        "    frequency=\"hourly\",\n",
        "    notify_email=\"developer.antoine@gmail.com\",\n",
        "    notification_preference=\"changes_only\",  # or \"all_runs\"\n",
        "    include_html=True,\n",
        "    include_image=True,\n",
        "    full_page=False,\n",
        "    quality=85,\n",
        "))\n",
        "print(watch)\n"
      ]
    },
    {
      "cell_type": "code",
      "execution_count": 2,
      "metadata": {},
      "outputs": [
        {
          "name": "stdout",
          "output_type": "stream",
          "text": [
            "success=True watch=None results=[WatchResult(id=None, executed_at='2025-08-26T16:06:42.806026Z', has_changed=False, change_type=None, content_hash=None, content=None, html_content=None, image_url=None)]\n"
          ]
        }
      ],
      "source": [
        "# Get details\n",
        "details = client.watch_get(watch.watch_id)\n",
        "print(details)"
      ]
    },
    {
      "cell_type": "code",
      "execution_count": 4,
      "metadata": {},
      "outputs": [
        {
          "name": "stdout",
          "output_type": "stream",
          "text": [
            "success=True total=1 watches=[Watch(id='507b4d9f-4d72-4940-b4b2-66378b5980f4', user_id='1fe62e7b-8d8e-4273-8ee0-dbc98c035226', url='https://supacrawler.com/blog', frequency='hourly', notify_email='developer.antoine@gmail.com', notification_preference=None, include_html=True, include_image=True, full_page=False, quality=85, selector=None, last_check='2025-08-26T16:06:42.999807Z', last_notification=None, status='active', created_at='2025-08-26T16:06:37.199867Z', updated_at='2025-08-26T16:06:42.999808Z', cron_job_name='watch_507b4d9f_4d72_4940_b4b2_66378b5980f4')]\n"
          ]
        }
      ],
      "source": [
        "# List watches\n",
        "all_watches = client.watch_list()\n",
        "print(all_watches)"
      ]
    },
    {
      "cell_type": "code",
      "execution_count": 7,
      "metadata": {},
      "outputs": [
        {
          "data": {
            "text/plain": [
              "WatchDeleteResponse(success=True, message='Watch job paused successfully')"
            ]
          },
          "execution_count": 7,
          "metadata": {},
          "output_type": "execute_result"
        }
      ],
      "source": [
        "# Pause, resume, check\n",
        "client.watch_pause(watch.watch_id)"
      ]
    },
    {
      "cell_type": "code",
      "execution_count": 8,
      "metadata": {},
      "outputs": [
        {
          "data": {
            "text/plain": [
              "WatchDeleteResponse(success=True, message='Watch job resumed successfully')"
            ]
          },
          "execution_count": 8,
          "metadata": {},
          "output_type": "execute_result"
        }
      ],
      "source": [
        "client.watch_resume(watch.watch_id)"
      ]
    },
    {
      "cell_type": "code",
      "execution_count": 9,
      "metadata": {},
      "outputs": [
        {
          "data": {
            "text/plain": [
              "WatchDeleteResponse(success=True, message='Manual check triggered successfully')"
            ]
          },
          "execution_count": 9,
          "metadata": {},
          "output_type": "execute_result"
        }
      ],
      "source": [
        "client.watch_check(watch.watch_id)"
      ]
    },
    {
      "cell_type": "code",
      "execution_count": 10,
      "metadata": {},
      "outputs": [
        {
          "data": {
            "text/plain": [
              "WatchDeleteResponse(success=True, message='Watch job deleted successfully')"
            ]
          },
          "execution_count": 10,
          "metadata": {},
          "output_type": "execute_result"
        }
      ],
      "source": [
        "# Delete watch\n",
        "client.watch_delete(watch.watch_id)"
      ]
    }
  ],
  "metadata": {
    "kernelspec": {
      "display_name": ".venv",
      "language": "python",
      "name": "python3"
    },
    "language_info": {
      "codemirror_mode": {
        "name": "ipython",
        "version": 3
      },
      "file_extension": ".py",
      "mimetype": "text/x-python",
      "name": "python",
      "nbconvert_exporter": "python",
      "pygments_lexer": "ipython3",
      "version": "3.11.13"
    }
  },
  "nbformat": 4,
  "nbformat_minor": 2
}
